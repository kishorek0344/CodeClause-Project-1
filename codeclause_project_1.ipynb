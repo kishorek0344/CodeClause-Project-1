{
  "nbformat": 4,
  "nbformat_minor": 0,
  "metadata": {
    "colab": {
      "provenance": [],
      "authorship_tag": "ABX9TyPxcgg0jmwsbWE8WMSVHtTv",
      "include_colab_link": true
    },
    "kernelspec": {
      "name": "python3",
      "display_name": "Python 3"
    },
    "language_info": {
      "name": "python"
    }
  },
  "cells": [
    {
      "cell_type": "markdown",
      "metadata": {
        "id": "view-in-github",
        "colab_type": "text"
      },
      "source": [
        "<a href=\"https://colab.research.google.com/github/kishorek0344/CodeClause-Project-1/blob/main/codeclause_project_1.ipynb\" target=\"_parent\"><img src=\"https://colab.research.google.com/assets/colab-badge.svg\" alt=\"Open In Colab\"/></a>"
      ]
    },
    {
      "cell_type": "code",
      "execution_count": 1,
      "metadata": {
        "id": "c_WA_qIVxv8H",
        "colab": {
          "base_uri": "https://localhost:8080/"
        },
        "outputId": "a01bb6dc-6ece-44ab-cad1-96861dcd167a"
      },
      "outputs": [
        {
          "output_type": "stream",
          "name": "stdout",
          "text": [
            "Requirement already satisfied: textblob in /usr/local/lib/python3.10/dist-packages (0.17.1)\n",
            "Requirement already satisfied: nltk>=3.1 in /usr/local/lib/python3.10/dist-packages (from textblob) (3.8.1)\n",
            "Requirement already satisfied: click in /usr/local/lib/python3.10/dist-packages (from nltk>=3.1->textblob) (8.1.7)\n",
            "Requirement already satisfied: joblib in /usr/local/lib/python3.10/dist-packages (from nltk>=3.1->textblob) (1.4.2)\n",
            "Requirement already satisfied: regex>=2021.8.3 in /usr/local/lib/python3.10/dist-packages (from nltk>=3.1->textblob) (2024.5.15)\n",
            "Requirement already satisfied: tqdm in /usr/local/lib/python3.10/dist-packages (from nltk>=3.1->textblob) (4.66.5)\n"
          ]
        }
      ],
      "source": [
        "pip install textblob\n"
      ]
    },
    {
      "cell_type": "code",
      "source": [
        "from textblob import TextBlob\n",
        "\n",
        "def analyze_sentiment(text):\n",
        "\n",
        "    # Create a TextBlob object\n",
        "    blob = TextBlob(text)\n",
        "\n",
        "    # Get the sentiment polarity\n",
        "    sentiment_polarity = blob.sentiment.polarity\n",
        "\n",
        "    # Determine the sentiment\n",
        "    if sentiment_polarity > 0:\n",
        "        return 'Positive'\n",
        "    elif sentiment_polarity < 0:\n",
        "        return 'Negative'\n",
        "    else:\n",
        "        return 'Neutral'\n",
        "\n",
        "if __name__ == \"__main__\":\n",
        "    # Get user input\n",
        "    text_input = input(\"Enter a sentence or review to analyze its sentiment: \")\n",
        "\n",
        "    # Analyze sentiment\n",
        "    sentiment = analyze_sentiment(text_input)\n",
        "\n",
        "    # Output the result\n",
        "    print(f\"The sentiment of the text is: {sentiment}\")\n"
      ],
      "metadata": {
        "id": "BxqIojz3zRry",
        "colab": {
          "base_uri": "https://localhost:8080/"
        },
        "outputId": "a3ce2f12-ccc4-4762-b88c-1e503e23b795"
      },
      "execution_count": 4,
      "outputs": [
        {
          "output_type": "stream",
          "name": "stdout",
          "text": [
            "Enter a sentence or review to analyze its sentiment: This intership is very worthy\n",
            "The sentiment of the text is: Positive\n"
          ]
        }
      ]
    },
    {
      "cell_type": "code",
      "source": [],
      "metadata": {
        "id": "rsCOFUkhzhYU"
      },
      "execution_count": null,
      "outputs": []
    },
    {
      "cell_type": "code",
      "source": [],
      "metadata": {
        "id": "dpT3KXsBzliR"
      },
      "execution_count": null,
      "outputs": []
    }
  ]
}